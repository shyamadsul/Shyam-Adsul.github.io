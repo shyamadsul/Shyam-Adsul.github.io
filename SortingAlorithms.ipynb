{
  "nbformat": 4,
  "nbformat_minor": 0,
  "metadata": {
    "colab": {
      "provenance": [],
      "authorship_tag": "ABX9TyOyWcSYfjwyDzGNO5tklwxZ",
      "include_colab_link": true
    },
    "kernelspec": {
      "name": "python3",
      "display_name": "Python 3"
    },
    "language_info": {
      "name": "python"
    }
  },
  "cells": [
    {
      "cell_type": "markdown",
      "metadata": {
        "id": "view-in-github",
        "colab_type": "text"
      },
      "source": [
        "<a href=\"https://colab.research.google.com/github/shyamadsul/Shyam-Adsul.github.io/blob/main/SortingAlorithms.ipynb\" target=\"_parent\"><img src=\"https://colab.research.google.com/assets/colab-badge.svg\" alt=\"Open In Colab\"/></a>"
      ]
    },
    {
      "cell_type": "markdown",
      "source": [
        "# Sorting Algorithms\n",
        "#### Selction Sort"
      ],
      "metadata": {
        "id": "8CIRz8UfVT2q"
      }
    },
    {
      "cell_type": "code",
      "source": [
        "def print_list(num_list):\n",
        "    print(num_list)\n",
        "\n",
        "\n",
        "\n",
        "def selction_sort(original_list):\n",
        "    length = len(original_list)\n",
        "    print(\"length\",length)\n",
        "    for i in range(length):\n",
        "        min_val_index = i\n",
        "        for j in range(i + 1, length):\n",
        "            # Comparison\n",
        "            if original_list[min_val_index] > original_list[j]:\n",
        "                min_val_index = j\n",
        "        #Swapping value\n",
        "        original_list[i], original_list[min_val_index] = original_list[min_val_index], original_list[i]\n",
        "\n",
        "        print(\"Sorted till index: \", i)\n",
        "        print_list(original_list)\n",
        "    print(\"Sorted list\")\n",
        "    print_list(original_list) \n",
        "\n",
        "selction_sort([89,9,87,6, 7, -9,-67,0,9,8,8])"
      ],
      "metadata": {
        "colab": {
          "base_uri": "https://localhost:8080/"
        },
        "id": "lCY7-cbPVWC9",
        "outputId": "9b585943-c81a-4772-8d46-5d28d1529dd8"
      },
      "execution_count": 11,
      "outputs": [
        {
          "output_type": "stream",
          "name": "stdout",
          "text": [
            "length 11\n",
            "Sorted till index:  0\n",
            "[-67, 9, 87, 6, 7, -9, 89, 0, 9, 8, 8]\n",
            "Sorted till index:  1\n",
            "[-67, -9, 87, 6, 7, 9, 89, 0, 9, 8, 8]\n",
            "Sorted till index:  2\n",
            "[-67, -9, 0, 6, 7, 9, 89, 87, 9, 8, 8]\n",
            "Sorted till index:  3\n",
            "[-67, -9, 0, 6, 7, 9, 89, 87, 9, 8, 8]\n",
            "Sorted till index:  4\n",
            "[-67, -9, 0, 6, 7, 9, 89, 87, 9, 8, 8]\n",
            "Sorted till index:  5\n",
            "[-67, -9, 0, 6, 7, 8, 89, 87, 9, 9, 8]\n",
            "Sorted till index:  6\n",
            "[-67, -9, 0, 6, 7, 8, 8, 87, 9, 9, 89]\n",
            "Sorted till index:  7\n",
            "[-67, -9, 0, 6, 7, 8, 8, 9, 87, 9, 89]\n",
            "Sorted till index:  8\n",
            "[-67, -9, 0, 6, 7, 8, 8, 9, 9, 87, 89]\n",
            "Sorted till index:  9\n",
            "[-67, -9, 0, 6, 7, 8, 8, 9, 9, 87, 89]\n",
            "Sorted till index:  10\n",
            "[-67, -9, 0, 6, 7, 8, 8, 9, 9, 87, 89]\n",
            "Sorted list\n",
            "[-67, -9, 0, 6, 7, 8, 8, 9, 9, 87, 89]\n"
          ]
        }
      ]
    },
    {
      "cell_type": "code",
      "source": [
        "i= 0\n",
        "for i in range(i, 5):\n",
        "    print(\"inner\")\n",
        "    for j in range(i+1,5):\n",
        "        print(\"outer\")\n",
        "\n",
        "#smililar logic where used foe selection sort\n"
      ],
      "metadata": {
        "colab": {
          "base_uri": "https://localhost:8080/"
        },
        "id": "fprqpGxWYKgz",
        "outputId": "e602cf79-54df-4330-f699-ae0e6ba4d98e"
      },
      "execution_count": null,
      "outputs": [
        {
          "output_type": "stream",
          "name": "stdout",
          "text": [
            "inner\n",
            "outer\n",
            "outer\n",
            "outer\n",
            "outer\n",
            "inner\n",
            "outer\n",
            "outer\n",
            "outer\n",
            "inner\n",
            "outer\n",
            "outer\n",
            "inner\n",
            "outer\n",
            "inner\n"
          ]
        }
      ]
    },
    {
      "cell_type": "code",
      "source": [],
      "metadata": {
        "id": "SjcUHlHebgm4"
      },
      "execution_count": null,
      "outputs": []
    }
  ]
}