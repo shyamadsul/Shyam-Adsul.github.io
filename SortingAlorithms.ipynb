{
  "nbformat": 4,
  "nbformat_minor": 0,
  "metadata": {
    "colab": {
      "provenance": [],
      "authorship_tag": "ABX9TyPtCLPlAvG162SM/YTIlvel",
      "include_colab_link": true
    },
    "kernelspec": {
      "name": "python3",
      "display_name": "Python 3"
    },
    "language_info": {
      "name": "python"
    }
  },
  "cells": [
    {
      "cell_type": "markdown",
      "metadata": {
        "id": "view-in-github",
        "colab_type": "text"
      },
      "source": [
        "<a href=\"https://colab.research.google.com/github/shyamadsul/Shyam-Adsul.github.io/blob/main/SortingAlorithms.ipynb\" target=\"_parent\"><img src=\"https://colab.research.google.com/assets/colab-badge.svg\" alt=\"Open In Colab\"/></a>"
      ]
    },
    {
      "cell_type": "markdown",
      "source": [
        "# Sorting Algorithms\n",
        "#### Selction Sort"
      ],
      "metadata": {
        "id": "8CIRz8UfVT2q"
      }
    },
    {
      "cell_type": "code",
      "source": [
        "i= 0\n",
        "for i in range(i, 5):\n",
        "    print(\"inner\")\n",
        "    for j in range(i+1,5):\n",
        "        print(\"outer\")\n",
        "\n",
        "#smililar logic where used foe selection sort\n"
      ],
      "metadata": {
        "id": "UFaTIhJ_h0V2",
        "outputId": "f0836ef2-143d-41d8-c84b-b9bb109ab1a8",
        "colab": {
          "base_uri": "https://localhost:8080/"
        }
      },
      "execution_count": 22,
      "outputs": [
        {
          "output_type": "stream",
          "name": "stdout",
          "text": [
            "inner\n",
            "outer\n",
            "outer\n",
            "outer\n",
            "outer\n",
            "inner\n",
            "outer\n",
            "outer\n",
            "outer\n",
            "inner\n",
            "outer\n",
            "outer\n",
            "inner\n",
            "outer\n",
            "inner\n"
          ]
        }
      ]
    },
    {
      "cell_type": "code",
      "source": [
        "def print_list(num_list):\n",
        "    print(num_list)\n",
        "\n",
        "\n",
        "\n",
        "def selction_sort(original_list):\n",
        "    length = len(original_list)\n",
        "    print(\"length\",length)\n",
        "    for i in range(length):\n",
        "        min_val_index = i\n",
        "        for j in range(i + 1, length):\n",
        "            # Comparison\n",
        "            if original_list[min_val_index] > original_list[j]:\n",
        "                min_val_index = j\n",
        "        #Swapping value\n",
        "        original_list[i], original_list[min_val_index] = original_list[min_val_index], original_list[i]\n",
        "\n",
        "        print(\"Sorted till index: \", i)\n",
        "        print_list(original_list)\n",
        "    print(\"Sorted list\")\n",
        "    print_list(original_list) \n",
        "\n",
        "selction_sort([89,9,87,6, 7, -9,-67,0,9,8,8])"
      ],
      "metadata": {
        "colab": {
          "base_uri": "https://localhost:8080/"
        },
        "id": "lCY7-cbPVWC9",
        "outputId": "f5d99449-7792-4ded-a10e-da489978b440"
      },
      "execution_count": 23,
      "outputs": [
        {
          "output_type": "stream",
          "name": "stdout",
          "text": [
            "length 11\n",
            "Sorted till index:  0\n",
            "[-67, 9, 87, 6, 7, -9, 89, 0, 9, 8, 8]\n",
            "Sorted till index:  1\n",
            "[-67, -9, 87, 6, 7, 9, 89, 0, 9, 8, 8]\n",
            "Sorted till index:  2\n",
            "[-67, -9, 0, 6, 7, 9, 89, 87, 9, 8, 8]\n",
            "Sorted till index:  3\n",
            "[-67, -9, 0, 6, 7, 9, 89, 87, 9, 8, 8]\n",
            "Sorted till index:  4\n",
            "[-67, -9, 0, 6, 7, 9, 89, 87, 9, 8, 8]\n",
            "Sorted till index:  5\n",
            "[-67, -9, 0, 6, 7, 8, 89, 87, 9, 9, 8]\n",
            "Sorted till index:  6\n",
            "[-67, -9, 0, 6, 7, 8, 8, 87, 9, 9, 89]\n",
            "Sorted till index:  7\n",
            "[-67, -9, 0, 6, 7, 8, 8, 9, 87, 9, 89]\n",
            "Sorted till index:  8\n",
            "[-67, -9, 0, 6, 7, 8, 8, 9, 9, 87, 89]\n",
            "Sorted till index:  9\n",
            "[-67, -9, 0, 6, 7, 8, 8, 9, 9, 87, 89]\n",
            "Sorted till index:  10\n",
            "[-67, -9, 0, 6, 7, 8, 8, 9, 9, 87, 89]\n",
            "Sorted list\n",
            "[-67, -9, 0, 6, 7, 8, 8, 9, 9, 87, 89]\n"
          ]
        }
      ]
    },
    {
      "cell_type": "code",
      "source": [
        "selction_sort([\"Shyam\",\"Kisan\",\"Anna\"])"
      ],
      "metadata": {
        "colab": {
          "base_uri": "https://localhost:8080/"
        },
        "id": "MLUI7liehJJ6",
        "outputId": "1c0bcc14-189e-4f7d-caca-fed217179ef0"
      },
      "execution_count": 24,
      "outputs": [
        {
          "output_type": "stream",
          "name": "stdout",
          "text": [
            "length 3\n",
            "Sorted till index:  0\n",
            "['Anna', 'Kisan', 'Shyam']\n",
            "Sorted till index:  1\n",
            "['Anna', 'Kisan', 'Shyam']\n",
            "Sorted till index:  2\n",
            "['Anna', 'Kisan', 'Shyam']\n",
            "Sorted list\n",
            "['Anna', 'Kisan', 'Shyam']\n"
          ]
        }
      ]
    },
    {
      "cell_type": "code",
      "source": [],
      "metadata": {
        "id": "fprqpGxWYKgz"
      },
      "execution_count": 24,
      "outputs": []
    },
    {
      "cell_type": "code",
      "source": [],
      "metadata": {
        "id": "SjcUHlHebgm4"
      },
      "execution_count": 16,
      "outputs": []
    }
  ]
}