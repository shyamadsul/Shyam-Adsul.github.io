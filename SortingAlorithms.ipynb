{
  "nbformat": 4,
  "nbformat_minor": 0,
  "metadata": {
    "colab": {
      "provenance": [],
      "authorship_tag": "ABX9TyMekgX9l2qnusDF+rwN+7Rh",
      "include_colab_link": true
    },
    "kernelspec": {
      "name": "python3",
      "display_name": "Python 3"
    },
    "language_info": {
      "name": "python"
    }
  },
  "cells": [
    {
      "cell_type": "markdown",
      "metadata": {
        "id": "view-in-github",
        "colab_type": "text"
      },
      "source": [
        "<a href=\"https://colab.research.google.com/github/shyamadsul/Shyam-Adsul.github.io/blob/main/SortingAlorithms.ipynb\" target=\"_parent\"><img src=\"https://colab.research.google.com/assets/colab-badge.svg\" alt=\"Open In Colab\"/></a>"
      ]
    },
    {
      "cell_type": "markdown",
      "source": [
        "# Sorting Algorithms\n",
        "#### Selction Sort"
      ],
      "metadata": {
        "id": "8CIRz8UfVT2q"
      }
    },
    {
      "cell_type": "code",
      "source": [
        "i= 0\n",
        "for i in range(i, 5):\n",
        "    print(\"inner\")\n",
        "    for j in range(i+1,5):\n",
        "        print(\"outer\")\n",
        "\n",
        "#smililar logic where used foe selection sort\n"
      ],
      "metadata": {
        "colab": {
          "base_uri": "https://localhost:8080/"
        },
        "id": "UFaTIhJ_h0V2",
        "outputId": "dba4a06a-53ab-43c9-f7c2-5153b660bcb9"
      },
      "execution_count": 10,
      "outputs": [
        {
          "output_type": "stream",
          "name": "stdout",
          "text": [
            "inner\n",
            "outer\n",
            "outer\n",
            "outer\n",
            "outer\n",
            "inner\n",
            "outer\n",
            "outer\n",
            "outer\n",
            "inner\n",
            "outer\n",
            "outer\n",
            "inner\n",
            "outer\n",
            "inner\n"
          ]
        }
      ]
    },
    {
      "cell_type": "code",
      "source": [
        "def print_list(num_list):\n",
        "    print(num_list)\n",
        "\n",
        "\n",
        "\n",
        "def selction_sort(original_list):\n",
        "    length = len(original_list)\n",
        "    print(\"length\",length)\n",
        "    for i in range(length):\n",
        "        min_val_index = i\n",
        "        for j in range(i + 1, length):\n",
        "            # Comparison\n",
        "            if original_list[min_val_index] > original_list[j]:\n",
        "                min_val_index = j\n",
        "        #Swapping value\n",
        "        original_list[i], original_list[min_val_index] = original_list[min_val_index], original_list[i]\n",
        "\n",
        "        print(\"Sorted till index: \", i)\n",
        "        print_list(original_list)\n",
        "    print(\"Sorted list\")\n",
        "    print_list(original_list) \n",
        "\n",
        "selction_sort([89,9,87,6, 7,-9,-67,0,9,8,8])"
      ],
      "metadata": {
        "colab": {
          "base_uri": "https://localhost:8080/"
        },
        "id": "lCY7-cbPVWC9",
        "outputId": "13e2f1ef-aef2-4e37-c537-7b5b50725ddd"
      },
      "execution_count": 11,
      "outputs": [
        {
          "output_type": "stream",
          "name": "stdout",
          "text": [
            "length 11\n",
            "Sorted till index:  0\n",
            "[-67, 9, 87, 6, 7, -9, 89, 0, 9, 8, 8]\n",
            "Sorted till index:  1\n",
            "[-67, -9, 87, 6, 7, 9, 89, 0, 9, 8, 8]\n",
            "Sorted till index:  2\n",
            "[-67, -9, 0, 6, 7, 9, 89, 87, 9, 8, 8]\n",
            "Sorted till index:  3\n",
            "[-67, -9, 0, 6, 7, 9, 89, 87, 9, 8, 8]\n",
            "Sorted till index:  4\n",
            "[-67, -9, 0, 6, 7, 9, 89, 87, 9, 8, 8]\n",
            "Sorted till index:  5\n",
            "[-67, -9, 0, 6, 7, 8, 89, 87, 9, 9, 8]\n",
            "Sorted till index:  6\n",
            "[-67, -9, 0, 6, 7, 8, 8, 87, 9, 9, 89]\n",
            "Sorted till index:  7\n",
            "[-67, -9, 0, 6, 7, 8, 8, 9, 87, 9, 89]\n",
            "Sorted till index:  8\n",
            "[-67, -9, 0, 6, 7, 8, 8, 9, 9, 87, 89]\n",
            "Sorted till index:  9\n",
            "[-67, -9, 0, 6, 7, 8, 8, 9, 9, 87, 89]\n",
            "Sorted till index:  10\n",
            "[-67, -9, 0, 6, 7, 8, 8, 9, 9, 87, 89]\n",
            "Sorted list\n",
            "[-67, -9, 0, 6, 7, 8, 8, 9, 9, 87, 89]\n"
          ]
        }
      ]
    },
    {
      "cell_type": "code",
      "source": [
        "selction_sort([\"Shyam\",\"Kisan\",\"Anna\"])"
      ],
      "metadata": {
        "colab": {
          "base_uri": "https://localhost:8080/"
        },
        "id": "MLUI7liehJJ6",
        "outputId": "09cacee2-1d3b-4b64-ec41-364ae77f35cc"
      },
      "execution_count": 12,
      "outputs": [
        {
          "output_type": "stream",
          "name": "stdout",
          "text": [
            "length 3\n",
            "Sorted till index:  0\n",
            "['Anna', 'Kisan', 'Shyam']\n",
            "Sorted till index:  1\n",
            "['Anna', 'Kisan', 'Shyam']\n",
            "Sorted till index:  2\n",
            "['Anna', 'Kisan', 'Shyam']\n",
            "Sorted list\n",
            "['Anna', 'Kisan', 'Shyam']\n"
          ]
        }
      ]
    },
    {
      "cell_type": "markdown",
      "source": [
        "#### Bubble **Sort**"
      ],
      "metadata": {
        "id": "HaUZb___iDcS"
      }
    },
    {
      "cell_type": "code",
      "source": [
        "#python range \n",
        "for i in range(-1,0):\n",
        "    print(\"Shyam\")"
      ],
      "metadata": {
        "colab": {
          "base_uri": "https://localhost:8080/"
        },
        "id": "1WIgVkqqsRR6",
        "outputId": "6d2ec23f-4282-45c7-f20f-84ec0a0650e2"
      },
      "execution_count": 13,
      "outputs": [
        {
          "output_type": "stream",
          "name": "stdout",
          "text": [
            "Shyam\n"
          ]
        }
      ]
    },
    {
      "cell_type": "code",
      "source": [
        "def bubble_sort(original_list):\n",
        "    length = len(original_list)\n",
        "#1st loop is used for pass \n",
        "#2nd loop used for compare and swap\n",
        "    for i in range(length - 1, 0, -1):#using this loop we are iterating from most right element to the left element\n",
        "        for index in range(i):\n",
        "            if original_list[index] > original_list[index + 1]:\n",
        "                original_list[index + 1], original_list[index] = original_list[index], original_list[index + 1]\n",
        "        print(\"Unsorted till index: \", i -  1)\n",
        "        print_list(original_list)        \n",
        "\n",
        "\n",
        "\n",
        "bubble_sort([50,40,30,20,10])"
      ],
      "metadata": {
        "id": "fprqpGxWYKgz",
        "colab": {
          "base_uri": "https://localhost:8080/"
        },
        "outputId": "b55ad88b-3bcc-4568-b400-dd3e945d270c"
      },
      "execution_count": 14,
      "outputs": [
        {
          "output_type": "stream",
          "name": "stdout",
          "text": [
            "Unsorted till index:  3\n",
            "[40, 30, 20, 10, 50]\n",
            "Unsorted till index:  2\n",
            "[30, 20, 10, 40, 50]\n",
            "Unsorted till index:  1\n",
            "[20, 10, 30, 40, 50]\n",
            "Unsorted till index:  0\n",
            "[10, 20, 30, 40, 50]\n"
          ]
        }
      ]
    },
    {
      "cell_type": "code",
      "source": [
        "def bubble(list):\n",
        "    i = 0\n",
        "    j = 0\n",
        "    temp =0\n",
        "\n",
        "    for i in range(1, len(list)):\n",
        "        for j in  range(len(list)- 1):\n",
        "            if list[j] > list[j+1]:\n",
        "                temp = list[j]\n",
        "                list[j] = list[j+1] \n",
        "                list[j+1] = temp\n",
        "        print_list(list)\n",
        "\n",
        "\n",
        "bubble([50,40,30,20,10])\n",
        "\n",
        "print(\"\\n\",\"\\n\")\n",
        "\n",
        "bubble([\"Mangal\",\"Adsul\",\"Kisan\",\"Atos\"])\n",
        "\n",
        "print(\"\\n\",\"\\n\")\n",
        "\n",
        "bubble([0.90,0.80,0.70,0.60,0.50])\n",
        "\n",
        "\n"
      ],
      "metadata": {
        "id": "SjcUHlHebgm4",
        "colab": {
          "base_uri": "https://localhost:8080/"
        },
        "outputId": "e933d016-b9b2-49f4-b131-883a15078b18"
      },
      "execution_count": 27,
      "outputs": [
        {
          "output_type": "stream",
          "name": "stdout",
          "text": [
            "[40, 30, 20, 10, 50]\n",
            "[30, 20, 10, 40, 50]\n",
            "[20, 10, 30, 40, 50]\n",
            "[10, 20, 30, 40, 50]\n",
            "\n",
            " \n",
            "\n",
            "['Adsul', 'Kisan', 'Atos', 'Mangal']\n",
            "['Adsul', 'Atos', 'Kisan', 'Mangal']\n",
            "['Adsul', 'Atos', 'Kisan', 'Mangal']\n",
            "\n",
            " \n",
            "\n",
            "[0.8, 0.7, 0.6, 0.5, 0.9]\n",
            "[0.7, 0.6, 0.5, 0.8, 0.9]\n",
            "[0.6, 0.5, 0.7, 0.8, 0.9]\n",
            "[0.5, 0.6, 0.7, 0.8, 0.9]\n"
          ]
        }
      ]
    },
    {
      "cell_type": "code",
      "source": [],
      "metadata": {
        "id": "3Qr-2BCD3JLz"
      },
      "execution_count": null,
      "outputs": []
    },
    {
      "cell_type": "code",
      "source": [],
      "metadata": {
        "id": "Cc7MlDhewCgI"
      },
      "execution_count": null,
      "outputs": []
    }
  ]
}